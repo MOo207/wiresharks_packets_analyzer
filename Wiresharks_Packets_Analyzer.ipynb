{
  "nbformat": 4,
  "nbformat_minor": 0,
  "metadata": {
    "colab": {
      "provenance": [],
      "collapsed_sections": []
    },
    "kernelspec": {
      "name": "python3",
      "display_name": "Python 3"
    },
    "language_info": {
      "name": "python"
    }
  },
  "cells": [
    {
      "cell_type": "markdown",
      "source": [
        "# Wiresharks Simple Packets Analyzer Project"
      ],
      "metadata": {
        "id": "oAzgIv59faFt"
      }
    },
    {
      "cell_type": "markdown",
      "source": [
        "### 1. import pandas library"
      ],
      "metadata": {
        "id": "QwMCJo0TfjYA"
      }
    },
    {
      "cell_type": "code",
      "execution_count": 66,
      "metadata": {
        "id": "9oP1KEfTYC3a"
      },
      "outputs": [],
      "source": [
        "import pandas as pd"
      ]
    },
    {
      "cell_type": "markdown",
      "source": [
        "### 2. Read CSV files that generated from wiresharks"
      ],
      "metadata": {
        "id": "YOI5dgyofve9"
      }
    },
    {
      "cell_type": "code",
      "source": [
        "df = pd.read_csv('/content/drive/MyDrive/Shared/packets analyzer/packets.csv')"
      ],
      "metadata": {
        "id": "kikZ6B9KYI1m"
      },
      "execution_count": 67,
      "outputs": []
    },
    {
      "cell_type": "markdown",
      "source": [
        "### 3. Show first 5 rows"
      ],
      "metadata": {
        "id": "x8VKeLccgwLB"
      }
    },
    {
      "cell_type": "code",
      "source": [
        "df.head()"
      ],
      "metadata": {
        "colab": {
          "base_uri": "https://localhost:8080/",
          "height": 206
        },
        "id": "Az54T7IFYK05",
        "outputId": "6b8b6c7c-c3ff-4b8d-c8fc-db9b2c1ada77"
      },
      "execution_count": 68,
      "outputs": [
        {
          "output_type": "execute_result",
          "data": {
            "text/plain": [
              "   No.      Time                               Source  \\\n",
              "0    1  0.000000                        192.168.66.42   \n",
              "1    2  0.159178            lhr48s29-in-f10.1e100.net   \n",
              "2    3  0.178257                    d6:ae:3e:47:24:fa   \n",
              "3    4  0.178273  MS-NLB-PhysServer-32_0e:6c:72:17:05   \n",
              "4    5  1.138147                        192.168.66.42   \n",
              "\n",
              "                           Destination Protocol  Length  \\\n",
              "0            lhr48s29-in-f10.1e100.net      TCP      55   \n",
              "1                        192.168.66.42      TCP      66   \n",
              "2  MS-NLB-PhysServer-32_0e:6c:72:17:05      ARP      42   \n",
              "3                    d6:ae:3e:47:24:fa      ARP      42   \n",
              "4           par10s22-in-f227.1e100.net      TCP      55   \n",
              "\n",
              "                                                Info  \n",
              "0  50272  >  https(443) [ACK] Seq=1 Ack=1 Win=513...  \n",
              "1  https(443)  >  50272 [ACK] Seq=1 Ack=2 Win=327...  \n",
              "2         Who has 192.168.66.42? Tell 192.168.66.117  \n",
              "3              192.168.66.42 is at 02:2e:6c:72:17:05  \n",
              "4  50481  >  https(443) [ACK] Seq=1 Ack=1 Win=511...  "
            ],
            "text/html": [
              "\n",
              "  <div id=\"df-c6d86e95-b6f9-4665-a754-e293d569270c\">\n",
              "    <div class=\"colab-df-container\">\n",
              "      <div>\n",
              "<style scoped>\n",
              "    .dataframe tbody tr th:only-of-type {\n",
              "        vertical-align: middle;\n",
              "    }\n",
              "\n",
              "    .dataframe tbody tr th {\n",
              "        vertical-align: top;\n",
              "    }\n",
              "\n",
              "    .dataframe thead th {\n",
              "        text-align: right;\n",
              "    }\n",
              "</style>\n",
              "<table border=\"1\" class=\"dataframe\">\n",
              "  <thead>\n",
              "    <tr style=\"text-align: right;\">\n",
              "      <th></th>\n",
              "      <th>No.</th>\n",
              "      <th>Time</th>\n",
              "      <th>Source</th>\n",
              "      <th>Destination</th>\n",
              "      <th>Protocol</th>\n",
              "      <th>Length</th>\n",
              "      <th>Info</th>\n",
              "    </tr>\n",
              "  </thead>\n",
              "  <tbody>\n",
              "    <tr>\n",
              "      <th>0</th>\n",
              "      <td>1</td>\n",
              "      <td>0.000000</td>\n",
              "      <td>192.168.66.42</td>\n",
              "      <td>lhr48s29-in-f10.1e100.net</td>\n",
              "      <td>TCP</td>\n",
              "      <td>55</td>\n",
              "      <td>50272  &gt;  https(443) [ACK] Seq=1 Ack=1 Win=513...</td>\n",
              "    </tr>\n",
              "    <tr>\n",
              "      <th>1</th>\n",
              "      <td>2</td>\n",
              "      <td>0.159178</td>\n",
              "      <td>lhr48s29-in-f10.1e100.net</td>\n",
              "      <td>192.168.66.42</td>\n",
              "      <td>TCP</td>\n",
              "      <td>66</td>\n",
              "      <td>https(443)  &gt;  50272 [ACK] Seq=1 Ack=2 Win=327...</td>\n",
              "    </tr>\n",
              "    <tr>\n",
              "      <th>2</th>\n",
              "      <td>3</td>\n",
              "      <td>0.178257</td>\n",
              "      <td>d6:ae:3e:47:24:fa</td>\n",
              "      <td>MS-NLB-PhysServer-32_0e:6c:72:17:05</td>\n",
              "      <td>ARP</td>\n",
              "      <td>42</td>\n",
              "      <td>Who has 192.168.66.42? Tell 192.168.66.117</td>\n",
              "    </tr>\n",
              "    <tr>\n",
              "      <th>3</th>\n",
              "      <td>4</td>\n",
              "      <td>0.178273</td>\n",
              "      <td>MS-NLB-PhysServer-32_0e:6c:72:17:05</td>\n",
              "      <td>d6:ae:3e:47:24:fa</td>\n",
              "      <td>ARP</td>\n",
              "      <td>42</td>\n",
              "      <td>192.168.66.42 is at 02:2e:6c:72:17:05</td>\n",
              "    </tr>\n",
              "    <tr>\n",
              "      <th>4</th>\n",
              "      <td>5</td>\n",
              "      <td>1.138147</td>\n",
              "      <td>192.168.66.42</td>\n",
              "      <td>par10s22-in-f227.1e100.net</td>\n",
              "      <td>TCP</td>\n",
              "      <td>55</td>\n",
              "      <td>50481  &gt;  https(443) [ACK] Seq=1 Ack=1 Win=511...</td>\n",
              "    </tr>\n",
              "  </tbody>\n",
              "</table>\n",
              "</div>\n",
              "      <button class=\"colab-df-convert\" onclick=\"convertToInteractive('df-c6d86e95-b6f9-4665-a754-e293d569270c')\"\n",
              "              title=\"Convert this dataframe to an interactive table.\"\n",
              "              style=\"display:none;\">\n",
              "        \n",
              "  <svg xmlns=\"http://www.w3.org/2000/svg\" height=\"24px\"viewBox=\"0 0 24 24\"\n",
              "       width=\"24px\">\n",
              "    <path d=\"M0 0h24v24H0V0z\" fill=\"none\"/>\n",
              "    <path d=\"M18.56 5.44l.94 2.06.94-2.06 2.06-.94-2.06-.94-.94-2.06-.94 2.06-2.06.94zm-11 1L8.5 8.5l.94-2.06 2.06-.94-2.06-.94L8.5 2.5l-.94 2.06-2.06.94zm10 10l.94 2.06.94-2.06 2.06-.94-2.06-.94-.94-2.06-.94 2.06-2.06.94z\"/><path d=\"M17.41 7.96l-1.37-1.37c-.4-.4-.92-.59-1.43-.59-.52 0-1.04.2-1.43.59L10.3 9.45l-7.72 7.72c-.78.78-.78 2.05 0 2.83L4 21.41c.39.39.9.59 1.41.59.51 0 1.02-.2 1.41-.59l7.78-7.78 2.81-2.81c.8-.78.8-2.07 0-2.86zM5.41 20L4 18.59l7.72-7.72 1.47 1.35L5.41 20z\"/>\n",
              "  </svg>\n",
              "      </button>\n",
              "      \n",
              "  <style>\n",
              "    .colab-df-container {\n",
              "      display:flex;\n",
              "      flex-wrap:wrap;\n",
              "      gap: 12px;\n",
              "    }\n",
              "\n",
              "    .colab-df-convert {\n",
              "      background-color: #E8F0FE;\n",
              "      border: none;\n",
              "      border-radius: 50%;\n",
              "      cursor: pointer;\n",
              "      display: none;\n",
              "      fill: #1967D2;\n",
              "      height: 32px;\n",
              "      padding: 0 0 0 0;\n",
              "      width: 32px;\n",
              "    }\n",
              "\n",
              "    .colab-df-convert:hover {\n",
              "      background-color: #E2EBFA;\n",
              "      box-shadow: 0px 1px 2px rgba(60, 64, 67, 0.3), 0px 1px 3px 1px rgba(60, 64, 67, 0.15);\n",
              "      fill: #174EA6;\n",
              "    }\n",
              "\n",
              "    [theme=dark] .colab-df-convert {\n",
              "      background-color: #3B4455;\n",
              "      fill: #D2E3FC;\n",
              "    }\n",
              "\n",
              "    [theme=dark] .colab-df-convert:hover {\n",
              "      background-color: #434B5C;\n",
              "      box-shadow: 0px 1px 3px 1px rgba(0, 0, 0, 0.15);\n",
              "      filter: drop-shadow(0px 1px 2px rgba(0, 0, 0, 0.3));\n",
              "      fill: #FFFFFF;\n",
              "    }\n",
              "  </style>\n",
              "\n",
              "      <script>\n",
              "        const buttonEl =\n",
              "          document.querySelector('#df-c6d86e95-b6f9-4665-a754-e293d569270c button.colab-df-convert');\n",
              "        buttonEl.style.display =\n",
              "          google.colab.kernel.accessAllowed ? 'block' : 'none';\n",
              "\n",
              "        async function convertToInteractive(key) {\n",
              "          const element = document.querySelector('#df-c6d86e95-b6f9-4665-a754-e293d569270c');\n",
              "          const dataTable =\n",
              "            await google.colab.kernel.invokeFunction('convertToInteractive',\n",
              "                                                     [key], {});\n",
              "          if (!dataTable) return;\n",
              "\n",
              "          const docLinkHtml = 'Like what you see? Visit the ' +\n",
              "            '<a target=\"_blank\" href=https://colab.research.google.com/notebooks/data_table.ipynb>data table notebook</a>'\n",
              "            + ' to learn more about interactive tables.';\n",
              "          element.innerHTML = '';\n",
              "          dataTable['output_type'] = 'display_data';\n",
              "          await google.colab.output.renderOutput(dataTable, element);\n",
              "          const docLink = document.createElement('div');\n",
              "          docLink.innerHTML = docLinkHtml;\n",
              "          element.appendChild(docLink);\n",
              "        }\n",
              "      </script>\n",
              "    </div>\n",
              "  </div>\n",
              "  "
            ]
          },
          "metadata": {},
          "execution_count": 68
        }
      ]
    },
    {
      "cell_type": "markdown",
      "source": [
        "### 4. Print the rows and columns length"
      ],
      "metadata": {
        "id": "asRGE9r-g3vS"
      }
    },
    {
      "cell_type": "code",
      "source": [
        "df.shape"
      ],
      "metadata": {
        "colab": {
          "base_uri": "https://localhost:8080/"
        },
        "id": "ykNVSlr7YMWK",
        "outputId": "ef71e7ba-9865-4a11-930c-3a3f40586dc0"
      },
      "execution_count": 69,
      "outputs": [
        {
          "output_type": "execute_result",
          "data": {
            "text/plain": [
              "(598, 7)"
            ]
          },
          "metadata": {},
          "execution_count": 69
        }
      ]
    },
    {
      "cell_type": "markdown",
      "source": [
        "### 5. Protocols as a use case for analyzing"
      ],
      "metadata": {
        "id": "b9bsVEdvhFKX"
      }
    },
    {
      "cell_type": "code",
      "source": [
        "by_protocol = df.groupby('Protocol').Source.count()\n",
        "by_protocol"
      ],
      "metadata": {
        "colab": {
          "base_uri": "https://localhost:8080/"
        },
        "id": "4SdRQGcKYN24",
        "outputId": "f6ff0e4d-bd20-4593-9b92-f43afe808f5a"
      },
      "execution_count": 70,
      "outputs": [
        {
          "output_type": "execute_result",
          "data": {
            "text/plain": [
              "Protocol\n",
              "ARP          4\n",
              "DNS         51\n",
              "MDNS        48\n",
              "QUIC         5\n",
              "SSDP        22\n",
              "TCP        219\n",
              "TLSv1        6\n",
              "TLSv1.2     55\n",
              "TLSv1.3    140\n",
              "UDP         48\n",
              "Name: Source, dtype: int64"
            ]
          },
          "metadata": {},
          "execution_count": 70
        }
      ]
    },
    {
      "cell_type": "markdown",
      "source": [
        "### 6. Sort the protocols by number of occurence"
      ],
      "metadata": {
        "id": "2INMYB7phOxR"
      }
    },
    {
      "cell_type": "code",
      "source": [
        "by_protocol.sort_values()"
      ],
      "metadata": {
        "colab": {
          "base_uri": "https://localhost:8080/"
        },
        "id": "QoMPCr27aMH5",
        "outputId": "7235be74-e765-42da-ded0-d90a25d39e59"
      },
      "execution_count": 71,
      "outputs": [
        {
          "output_type": "execute_result",
          "data": {
            "text/plain": [
              "Protocol\n",
              "ARP          4\n",
              "QUIC         5\n",
              "TLSv1        6\n",
              "SSDP        22\n",
              "MDNS        48\n",
              "UDP         48\n",
              "DNS         51\n",
              "TLSv1.2     55\n",
              "TLSv1.3    140\n",
              "TCP        219\n",
              "Name: Source, dtype: int64"
            ]
          },
          "metadata": {},
          "execution_count": 71
        }
      ]
    },
    {
      "cell_type": "markdown",
      "source": [
        "### 7. Plotting the scatter number of protocols with number of occur"
      ],
      "metadata": {
        "id": "51pkXth6hT_b"
      }
    },
    {
      "cell_type": "code",
      "source": [
        "by_protocol.sort_values().plot(kind='bar')"
      ],
      "metadata": {
        "colab": {
          "base_uri": "https://localhost:8080/",
          "height": 326
        },
        "id": "AnReT4OC-0rt",
        "outputId": "b7a742b8-d303-4d56-d84e-67efa7da4854"
      },
      "execution_count": 72,
      "outputs": [
        {
          "output_type": "execute_result",
          "data": {
            "text/plain": [
              "<matplotlib.axes._subplots.AxesSubplot at 0x7f99ad4137d0>"
            ]
          },
          "metadata": {},
          "execution_count": 72
        },
        {
          "output_type": "display_data",
          "data": {
            "text/plain": [
              "<Figure size 432x288 with 1 Axes>"
            ],
            "image/png": "[encoded data removed]"
          },
          "metadata": {
            "needs_background": "light"
          }
        }
      ]
    },
    {
      "cell_type": "code",
      "source": [
        "by_protocol.sort_values().plot(kind='barh')"
      ],
      "metadata": {
        "colab": {
          "base_uri": "https://localhost:8080/",
          "height": 282
        },
        "id": "YktKoX9BbI4W",
        "outputId": "8398f05e-38cf-41d5-d43f-38f0df83f67a"
      },
      "execution_count": 73,
      "outputs": [
        {
          "output_type": "execute_result",
          "data": {
            "text/plain": [
              "<matplotlib.axes._subplots.AxesSubplot at 0x7f99ad31d110>"
            ]
          },
          "metadata": {},
          "execution_count": 73
        },
        {
          "output_type": "display_data",
          "data": {
            "text/plain": [
              "<Figure size 432x288 with 1 Axes>"
            ],
            "image/png": "[encoded data removed]"
          },
          "metadata": {
            "needs_background": "light"
          }
        }
      ]
    },
    {
      "cell_type": "code",
      "source": [
        "by_protocol.sort_values().plot(kind='line')"
      ],
      "metadata": {
        "colab": {
          "base_uri": "https://localhost:8080/",
          "height": 296
        },
        "id": "k-hytlui_Ovp",
        "outputId": "09da2907-d03d-4cb8-b186-9af568736c6c"
      },
      "execution_count": 74,
      "outputs": [
        {
          "output_type": "execute_result",
          "data": {
            "text/plain": [
              "<matplotlib.axes._subplots.AxesSubplot at 0x7f99ad2ab110>"
            ]
          },
          "metadata": {},
          "execution_count": 74
        },
        {
          "output_type": "display_data",
          "data": {
            "text/plain": [
              "<Figure size 432x288 with 1 Axes>"
            ],
            "image/png": "[encoded data removed]"
          },
          "metadata": {
            "needs_background": "light"
          }
        }
      ]
    },
    {
      "cell_type": "code",
      "source": [
        "by_protocol.sort_values().plot(kind='pie')"
      ],
      "metadata": {
        "colab": {
          "base_uri": "https://localhost:8080/",
          "height": 265
        },
        "id": "mfkbrOb99Zfk",
        "outputId": "33f3a851-50d0-492d-e4d5-d8110f7d0f06"
      },
      "execution_count": 75,
      "outputs": [
        {
          "output_type": "execute_result",
          "data": {
            "text/plain": [
              "<matplotlib.axes._subplots.AxesSubplot at 0x7f99ad284310>"
            ]
          },
          "metadata": {},
          "execution_count": 75
        },
        {
          "output_type": "display_data",
          "data": {
            "text/plain": [
              "<Figure size 432x288 with 1 Axes>"
            ],
            "image/png": "[encoded data removed]"
          },
          "metadata": {}
        }
      ]
    },
    {
      "cell_type": "markdown",
      "source": [
        "### 8. Specific protocols and its length"
      ],
      "metadata": {
        "id": "cxNUgWg1iZxI"
      }
    },
    {
      "cell_type": "code",
      "source": [
        "df[df['Protocol'] == 'DNS'].Length.hist(bins=5)"
      ],
      "metadata": {
        "colab": {
          "base_uri": "https://localhost:8080/",
          "height": 282
        },
        "id": "73LOLlTM_9zJ",
        "outputId": "93a22256-9ed5-4cbf-fb4d-7483fb0c61b5"
      },
      "execution_count": 76,
      "outputs": [
        {
          "output_type": "execute_result",
          "data": {
            "text/plain": [
              "<matplotlib.axes._subplots.AxesSubplot at 0x7f99ad1fd250>"
            ]
          },
          "metadata": {},
          "execution_count": 76
        },
        {
          "output_type": "display_data",
          "data": {
            "text/plain": [
              "<Figure size 432x288 with 1 Axes>"
            ],
            "image/png": "[encoded data removed]"
          },
          "metadata": {
            "needs_background": "light"
          }
        }
      ]
    },
    {
      "cell_type": "code",
      "source": [
        "df[df['Protocol'] == 'TLSv1.2'].Length.hist(bins=5)"
      ],
      "metadata": {
        "colab": {
          "base_uri": "https://localhost:8080/",
          "height": 282
        },
        "id": "qR1rbft6ALSm",
        "outputId": "4782900a-d91f-4017-b342-4f827f5d1853"
      },
      "execution_count": 77,
      "outputs": [
        {
          "output_type": "execute_result",
          "data": {
            "text/plain": [
              "<matplotlib.axes._subplots.AxesSubplot at 0x7f99ad182810>"
            ]
          },
          "metadata": {},
          "execution_count": 77
        },
        {
          "output_type": "display_data",
          "data": {
            "text/plain": [
              "<Figure size 432x288 with 1 Axes>"
            ],
            "image/png": "[encoded data removed]"
          },
          "metadata": {
            "needs_background": "light"
          }
        }
      ]
    },
    {
      "cell_type": "code",
      "source": [
        "df[df['Protocol'] == 'TCP'].Length.hist(bins=10)"
      ],
      "metadata": {
        "colab": {
          "base_uri": "https://localhost:8080/",
          "height": 282
        },
        "id": "Q99LP2slcLkw",
        "outputId": "20a17175-5ef9-4c46-b4d8-2e68d4747db2"
      },
      "execution_count": 78,
      "outputs": [
        {
          "output_type": "execute_result",
          "data": {
            "text/plain": [
              "<matplotlib.axes._subplots.AxesSubplot at 0x7f99ad0d9450>"
            ]
          },
          "metadata": {},
          "execution_count": 78
        },
        {
          "output_type": "display_data",
          "data": {
            "text/plain": [
              "<Figure size 432x288 with 1 Axes>"
            ],
            "image/png": "[encoded data removed]"
          },
          "metadata": {
            "needs_background": "light"
          }
        }
      ]
    },
    {
      "cell_type": "markdown",
      "source": [
        "### 9. Sort and plot for the source"
      ],
      "metadata": {
        "id": "Hy-gX672B_74"
      }
    },
    {
      "cell_type": "code",
      "source": [
        "# Group by Source Address and Payload Sum\n",
        "source_addresses = df.groupby(\"Source\").sum()\n",
        "source_addresses"
      ],
      "metadata": {
        "colab": {
          "base_uri": "https://localhost:8080/",
          "height": 739
        },
        "id": "JRQAHSb5mFnj",
        "outputId": "8854253f-6f45-44f4-d07f-633d9fb88bee"
      },
      "execution_count": 79,
      "outputs": [
        {
          "output_type": "execute_result",
          "data": {
            "text/plain": [
              "                                           No.         Time  Length\n",
              "Source                                                             \n",
              "131.160.120.34.bc.googleusercontent.com    191    27.223055     120\n",
              "172.217.21.42                              110    13.944167      54\n",
              "192.168.66.117                            4376   338.899786    3478\n",
              "192.168.66.42                            89608  6143.142386   81298\n",
              "20.90.153.243                              161    15.511032      66\n",
              "MS-NLB-PhysServer-32_0e:6c:72:17:05        479    27.749452      84\n",
              "clients.l.google.com                     16023   954.998473   20192\n",
              "d6:ae:3e:47:24:fa                          477    27.749418      84\n",
              "drive.google.com                         39896  2612.931840   39001\n",
              "fe80::5461:2afa:6436:eac8                14616   972.702128   21370\n",
              "fjr01s01-in-f14.1e100.net                  114    13.946993      54\n",
              "fra24s11-in-f14.1e100.net                  161    17.885274     120\n",
              "lhr25s31-in-f10.1e100.net                 1257    88.435462     492\n",
              "lhr25s34-in-f14.1e100.net                  237    25.459610    1189\n",
              "lhr48s29-in-f10.1e100.net                  355    41.991664     240\n",
              "mobile-gtalk.l.google.com                 4097   290.992218    8135\n",
              "mrs09s16-in-f14.1e100.net                  120    14.053429      54\n",
              "optimizationguide-pa.googleapis.com       3187   263.947798    7516\n",
              "par10s22-in-f227.1e100.net                 118    15.136038     120\n",
              "play.google.com                           3348   200.263550     480\n",
              "wf-in-f188.1e100.net                       170    16.027236      54"
            ],
            "text/html": [
              "\n",
              "  <div id=\"df-1e061c2c-a1d7-4a35-8f49-f6b1f9b17e09\">\n",
              "    <div class=\"colab-df-container\">\n",
              "      <div>\n",
              "<style scoped>\n",
              "    .dataframe tbody tr th:only-of-type {\n",
              "        vertical-align: middle;\n",
              "    }\n",
              "\n",
              "    .dataframe tbody tr th {\n",
              "        vertical-align: top;\n",
              "    }\n",
              "\n",
              "    .dataframe thead th {\n",
              "        text-align: right;\n",
              "    }\n",
              "</style>\n",
              "<table border=\"1\" class=\"dataframe\">\n",
              "  <thead>\n",
              "    <tr style=\"text-align: right;\">\n",
              "      <th></th>\n",
              "      <th>No.</th>\n",
              "      <th>Time</th>\n",
              "      <th>Length</th>\n",
              "    </tr>\n",
              "    <tr>\n",
              "      <th>Source</th>\n",
              "      <th></th>\n",
              "      <th></th>\n",
              "      <th></th>\n",
              "    </tr>\n",
              "  </thead>\n",
              "  <tbody>\n",
              "    <tr>\n",
              "      <th>131.160.120.34.bc.googleusercontent.com</th>\n",
              "      <td>191</td>\n",
              "      <td>27.223055</td>\n",
              "      <td>120</td>\n",
              "    </tr>\n",
              "    <tr>\n",
              "      <th>172.217.21.42</th>\n",
              "      <td>110</td>\n",
              "      <td>13.944167</td>\n",
              "      <td>54</td>\n",
              "    </tr>\n",
              "    <tr>\n",
              "      <th>192.168.66.117</th>\n",
              "      <td>4376</td>\n",
              "      <td>338.899786</td>\n",
              "      <td>3478</td>\n",
              "    </tr>\n",
              "    <tr>\n",
              "      <th>192.168.66.42</th>\n",
              "      <td>89608</td>\n",
              "      <td>6143.142386</td>\n",
              "      <td>81298</td>\n",
              "    </tr>\n",
              "    <tr>\n",
              "      <th>20.90.153.243</th>\n",
              "      <td>161</td>\n",
              "      <td>15.511032</td>\n",
              "      <td>66</td>\n",
              "    </tr>\n",
              "    <tr>\n",
              "      <th>MS-NLB-PhysServer-32_0e:6c:72:17:05</th>\n",
              "      <td>479</td>\n",
              "      <td>27.749452</td>\n",
              "      <td>84</td>\n",
              "    </tr>\n",
              "    <tr>\n",
              "      <th>clients.l.google.com</th>\n",
              "      <td>16023</td>\n",
              "      <td>954.998473</td>\n",
              "      <td>20192</td>\n",
              "    </tr>\n",
              "    <tr>\n",
              "      <th>d6:ae:3e:47:24:fa</th>\n",
              "      <td>477</td>\n",
              "      <td>27.749418</td>\n",
              "      <td>84</td>\n",
              "    </tr>\n",
              "    <tr>\n",
              "      <th>drive.google.com</th>\n",
              "      <td>39896</td>\n",
              "      <td>2612.931840</td>\n",
              "      <td>39001</td>\n",
              "    </tr>\n",
              "    <tr>\n",
              "      <th>fe80::5461:2afa:6436:eac8</th>\n",
              "      <td>14616</td>\n",
              "      <td>972.702128</td>\n",
              "      <td>21370</td>\n",
              "    </tr>\n",
              "    <tr>\n",
              "      <th>fjr01s01-in-f14.1e100.net</th>\n",
              "      <td>114</td>\n",
              "      <td>13.946993</td>\n",
              "      <td>54</td>\n",
              "    </tr>\n",
              "    <tr>\n",
              "      <th>fra24s11-in-f14.1e100.net</th>\n",
              "      <td>161</td>\n",
              "      <td>17.885274</td>\n",
              "      <td>120</td>\n",
              "    </tr>\n",
              "    <tr>\n",
              "      <th>lhr25s31-in-f10.1e100.net</th>\n",
              "      <td>1257</td>\n",
              "      <td>88.435462</td>\n",
              "      <td>492</td>\n",
              "    </tr>\n",
              "    <tr>\n",
              "      <th>lhr25s34-in-f14.1e100.net</th>\n",
              "      <td>237</td>\n",
              "      <td>25.459610</td>\n",
              "      <td>1189</td>\n",
              "    </tr>\n",
              "    <tr>\n",
              "      <th>lhr48s29-in-f10.1e100.net</th>\n",
              "      <td>355</td>\n",
              "      <td>41.991664</td>\n",
              "      <td>240</td>\n",
              "    </tr>\n",
              "    <tr>\n",
              "      <th>mobile-gtalk.l.google.com</th>\n",
              "      <td>4097</td>\n",
              "      <td>290.992218</td>\n",
              "      <td>8135</td>\n",
              "    </tr>\n",
              "    <tr>\n",
              "      <th>mrs09s16-in-f14.1e100.net</th>\n",
              "      <td>120</td>\n",
              "      <td>14.053429</td>\n",
              "      <td>54</td>\n",
              "    </tr>\n",
              "    <tr>\n",
              "      <th>optimizationguide-pa.googleapis.com</th>\n",
              "      <td>3187</td>\n",
              "      <td>263.947798</td>\n",
              "      <td>7516</td>\n",
              "    </tr>\n",
              "    <tr>\n",
              "      <th>par10s22-in-f227.1e100.net</th>\n",
              "      <td>118</td>\n",
              "      <td>15.136038</td>\n",
              "      <td>120</td>\n",
              "    </tr>\n",
              "    <tr>\n",
              "      <th>play.google.com</th>\n",
              "      <td>3348</td>\n",
              "      <td>200.263550</td>\n",
              "      <td>480</td>\n",
              "    </tr>\n",
              "    <tr>\n",
              "      <th>wf-in-f188.1e100.net</th>\n",
              "      <td>170</td>\n",
              "      <td>16.027236</td>\n",
              "      <td>54</td>\n",
              "    </tr>\n",
              "  </tbody>\n",
              "</table>\n",
              "</div>\n",
              "      <button class=\"colab-df-convert\" onclick=\"convertToInteractive('df-1e061c2c-a1d7-4a35-8f49-f6b1f9b17e09')\"\n",
              "              title=\"Convert this dataframe to an interactive table.\"\n",
              "              style=\"display:none;\">\n",
              "        \n",
              "  <svg xmlns=\"http://www.w3.org/2000/svg\" height=\"24px\"viewBox=\"0 0 24 24\"\n",
              "       width=\"24px\">\n",
              "    <path d=\"M0 0h24v24H0V0z\" fill=\"none\"/>\n",
              "    <path d=\"M18.56 5.44l.94 2.06.94-2.06 2.06-.94-2.06-.94-.94-2.06-.94 2.06-2.06.94zm-11 1L8.5 8.5l.94-2.06 2.06-.94-2.06-.94L8.5 2.5l-.94 2.06-2.06.94zm10 10l.94 2.06.94-2.06 2.06-.94-2.06-.94-.94-2.06-.94 2.06-2.06.94z\"/><path d=\"M17.41 7.96l-1.37-1.37c-.4-.4-.92-.59-1.43-.59-.52 0-1.04.2-1.43.59L10.3 9.45l-7.72 7.72c-.78.78-.78 2.05 0 2.83L4 21.41c.39.39.9.59 1.41.59.51 0 1.02-.2 1.41-.59l7.78-7.78 2.81-2.81c.8-.78.8-2.07 0-2.86zM5.41 20L4 18.59l7.72-7.72 1.47 1.35L5.41 20z\"/>\n",
              "  </svg>\n",
              "      </button>\n",
              "      \n",
              "  <style>\n",
              "    .colab-df-container {\n",
              "      display:flex;\n",
              "      flex-wrap:wrap;\n",
              "      gap: 12px;\n",
              "    }\n",
              "\n",
              "    .colab-df-convert {\n",
              "      background-color: #E8F0FE;\n",
              "      border: none;\n",
              "      border-radius: 50%;\n",
              "      cursor: pointer;\n",
              "      display: none;\n",
              "      fill: #1967D2;\n",
              "      height: 32px;\n",
              "      padding: 0 0 0 0;\n",
              "      width: 32px;\n",
              "    }\n",
              "\n",
              "    .colab-df-convert:hover {\n",
              "      background-color: #E2EBFA;\n",
              "      box-shadow: 0px 1px 2px rgba(60, 64, 67, 0.3), 0px 1px 3px 1px rgba(60, 64, 67, 0.15);\n",
              "      fill: #174EA6;\n",
              "    }\n",
              "\n",
              "    [theme=dark] .colab-df-convert {\n",
              "      background-color: #3B4455;\n",
              "      fill: #D2E3FC;\n",
              "    }\n",
              "\n",
              "    [theme=dark] .colab-df-convert:hover {\n",
              "      background-color: #434B5C;\n",
              "      box-shadow: 0px 1px 3px 1px rgba(0, 0, 0, 0.15);\n",
              "      filter: drop-shadow(0px 1px 2px rgba(0, 0, 0, 0.3));\n",
              "      fill: #FFFFFF;\n",
              "    }\n",
              "  </style>\n",
              "\n",
              "      <script>\n",
              "        const buttonEl =\n",
              "          document.querySelector('#df-1e061c2c-a1d7-4a35-8f49-f6b1f9b17e09 button.colab-df-convert');\n",
              "        buttonEl.style.display =\n",
              "          google.colab.kernel.accessAllowed ? 'block' : 'none';\n",
              "\n",
              "        async function convertToInteractive(key) {\n",
              "          const element = document.querySelector('#df-1e061c2c-a1d7-4a35-8f49-f6b1f9b17e09');\n",
              "          const dataTable =\n",
              "            await google.colab.kernel.invokeFunction('convertToInteractive',\n",
              "                                                     [key], {});\n",
              "          if (!dataTable) return;\n",
              "\n",
              "          const docLinkHtml = 'Like what you see? Visit the ' +\n",
              "            '<a target=\"_blank\" href=https://colab.research.google.com/notebooks/data_table.ipynb>data table notebook</a>'\n",
              "            + ' to learn more about interactive tables.';\n",
              "          element.innerHTML = '';\n",
              "          dataTable['output_type'] = 'display_data';\n",
              "          await google.colab.output.renderOutput(dataTable, element);\n",
              "          const docLink = document.createElement('div');\n",
              "          docLink.innerHTML = docLinkHtml;\n",
              "          element.appendChild(docLink);\n",
              "        }\n",
              "      </script>\n",
              "    </div>\n",
              "  </div>\n",
              "  "
            ]
          },
          "metadata": {},
          "execution_count": 79
        }
      ]
    },
    {
      "cell_type": "code",
      "source": [
        "source_addresses.plot(kind='barh',title=\"Addresses Sending Payloads\",figsize=(8,5))"
      ],
      "metadata": {
        "colab": {
          "base_uri": "https://localhost:8080/",
          "height": 353
        },
        "id": "QJAEaJ2Kmuvu",
        "outputId": "776a66b3-26c7-4eb1-9fca-bd5378c779a7"
      },
      "execution_count": 80,
      "outputs": [
        {
          "output_type": "execute_result",
          "data": {
            "text/plain": [
              "<matplotlib.axes._subplots.AxesSubplot at 0x7f99ad020ad0>"
            ]
          },
          "metadata": {},
          "execution_count": 80
        },
        {
          "output_type": "display_data",
          "data": {
            "text/plain": [
              "<Figure size 576x360 with 1 Axes>"
            ],
            "image/png": "[encoded data removed]"
          },
          "metadata": {
            "needs_background": "light"
          }
        }
      ]
    },
    {
      "cell_type": "markdown",
      "source": [
        "### 10. Sort and plot for the destination"
      ],
      "metadata": {
        "id": "2ss3H_HhCERe"
      }
    },
    {
      "cell_type": "code",
      "source": [
        "destination_addresses = df.groupby(\"Destination\").sum()\n",
        "destination_addresses"
      ],
      "metadata": {
        "colab": {
          "base_uri": "https://localhost:8080/",
          "height": 864
        },
        "id": "lZtd3RtLnFdV",
        "outputId": "135074e3-bb66-4e5e-bca8-4baa3dbd6aa0"
      },
      "execution_count": 81,
      "outputs": [
        {
          "output_type": "execute_result",
          "data": {
            "text/plain": [
              "                                           No.         Time  Length\n",
              "Destination                                                        \n",
              "131.160.120.34.bc.googleusercontent.com    185    26.949150     138\n",
              "172.217.21.42                              213    27.836811     108\n",
              "192.168.66.117                            4686   361.754422    2344\n",
              "192.168.66.255                             697    83.998536    1940\n",
              "192.168.66.42                            73921  4951.647625   81365\n",
              "20.90.153.243                              157    15.395798      55\n",
              "224.0.0.251                               8610   549.471511    1968\n",
              "239.255.255.250                          12494   870.951760   22944\n",
              "MS-NLB-PhysServer-32_0e:6c:72:17:05        477    27.749418      84\n",
              "clients.l.google.com                     13068   780.422267    7531\n",
              "d6:ae:3e:47:24:fa                          479    27.749452      84\n",
              "drive.google.com                         32269  2131.625569   27685\n",
              "ff02::c                                   5982   423.227875   18922\n",
              "ff02::fb                                  8634   549.474253    2448\n",
              "fjr01s01-in-f14.1e100.net                  218    27.839767     108\n",
              "fra24s11-in-f14.1e100.net                  270    31.649190     163\n",
              "lhr25s31-in-f10.1e100.net                 1301    95.346641     464\n",
              "lhr25s34-in-f14.1e100.net                  347    40.810781    1012\n",
              "lhr48s29-in-f10.1e100.net                  555    69.426687     326\n",
              "mobile-gtalk.l.google.com                 3728   276.539112    2652\n",
              "mrs09s16-in-f14.1e100.net                  222    27.943904     108\n",
              "optimizationguide-pa.googleapis.com       2840   234.398310    2257\n",
              "par10s22-in-f227.1e100.net                 216    28.973751     163\n",
              "play.google.com                           7212   430.563271    9224\n",
              "wf-in-f188.1e100.net                       320    31.245148     108"
            ],
            "text/html": [
              "\n",
              "  <div id=\"df-97727f7c-7c34-4960-831e-0c511e6bca0b\">\n",
              "    <div class=\"colab-df-container\">\n",
              "      <div>\n",
              "<style scoped>\n",
              "    .dataframe tbody tr th:only-of-type {\n",
              "        vertical-align: middle;\n",
              "    }\n",
              "\n",
              "    .dataframe tbody tr th {\n",
              "        vertical-align: top;\n",
              "    }\n",
              "\n",
              "    .dataframe thead th {\n",
              "        text-align: right;\n",
              "    }\n",
              "</style>\n",
              "<table border=\"1\" class=\"dataframe\">\n",
              "  <thead>\n",
              "    <tr style=\"text-align: right;\">\n",
              "      <th></th>\n",
              "      <th>No.</th>\n",
              "      <th>Time</th>\n",
              "      <th>Length</th>\n",
              "    </tr>\n",
              "    <tr>\n",
              "      <th>Destination</th>\n",
              "      <th></th>\n",
              "      <th></th>\n",
              "      <th></th>\n",
              "    </tr>\n",
              "  </thead>\n",
              "  <tbody>\n",
              "    <tr>\n",
              "      <th>131.160.120.34.bc.googleusercontent.com</th>\n",
              "      <td>185</td>\n",
              "      <td>26.949150</td>\n",
              "      <td>138</td>\n",
              "    </tr>\n",
              "    <tr>\n",
              "      <th>172.217.21.42</th>\n",
              "      <td>213</td>\n",
              "      <td>27.836811</td>\n",
              "      <td>108</td>\n",
              "    </tr>\n",
              "    <tr>\n",
              "      <th>192.168.66.117</th>\n",
              "      <td>4686</td>\n",
              "      <td>361.754422</td>\n",
              "      <td>2344</td>\n",
              "    </tr>\n",
              "    <tr>\n",
              "      <th>192.168.66.255</th>\n",
              "      <td>697</td>\n",
              "      <td>83.998536</td>\n",
              "      <td>1940</td>\n",
              "    </tr>\n",
              "    <tr>\n",
              "      <th>192.168.66.42</th>\n",
              "      <td>73921</td>\n",
              "      <td>4951.647625</td>\n",
              "      <td>81365</td>\n",
              "    </tr>\n",
              "    <tr>\n",
              "      <th>20.90.153.243</th>\n",
              "      <td>157</td>\n",
              "      <td>15.395798</td>\n",
              "      <td>55</td>\n",
              "    </tr>\n",
              "    <tr>\n",
              "      <th>224.0.0.251</th>\n",
              "      <td>8610</td>\n",
              "      <td>549.471511</td>\n",
              "      <td>1968</td>\n",
              "    </tr>\n",
              "    <tr>\n",
              "      <th>239.255.255.250</th>\n",
              "      <td>12494</td>\n",
              "      <td>870.951760</td>\n",
              "      <td>22944</td>\n",
              "    </tr>\n",
              "    <tr>\n",
              "      <th>MS-NLB-PhysServer-32_0e:6c:72:17:05</th>\n",
              "      <td>477</td>\n",
              "      <td>27.749418</td>\n",
              "      <td>84</td>\n",
              "    </tr>\n",
              "    <tr>\n",
              "      <th>clients.l.google.com</th>\n",
              "      <td>13068</td>\n",
              "      <td>780.422267</td>\n",
              "      <td>7531</td>\n",
              "    </tr>\n",
              "    <tr>\n",
              "      <th>d6:ae:3e:47:24:fa</th>\n",
              "      <td>479</td>\n",
              "      <td>27.749452</td>\n",
              "      <td>84</td>\n",
              "    </tr>\n",
              "    <tr>\n",
              "      <th>drive.google.com</th>\n",
              "      <td>32269</td>\n",
              "      <td>2131.625569</td>\n",
              "      <td>27685</td>\n",
              "    </tr>\n",
              "    <tr>\n",
              "      <th>ff02::c</th>\n",
              "      <td>5982</td>\n",
              "      <td>423.227875</td>\n",
              "      <td>18922</td>\n",
              "    </tr>\n",
              "    <tr>\n",
              "      <th>ff02::fb</th>\n",
              "      <td>8634</td>\n",
              "      <td>549.474253</td>\n",
              "      <td>2448</td>\n",
              "    </tr>\n",
              "    <tr>\n",
              "      <th>fjr01s01-in-f14.1e100.net</th>\n",
              "      <td>218</td>\n",
              "      <td>27.839767</td>\n",
              "      <td>108</td>\n",
              "    </tr>\n",
              "    <tr>\n",
              "      <th>fra24s11-in-f14.1e100.net</th>\n",
              "      <td>270</td>\n",
              "      <td>31.649190</td>\n",
              "      <td>163</td>\n",
              "    </tr>\n",
              "    <tr>\n",
              "      <th>lhr25s31-in-f10.1e100.net</th>\n",
              "      <td>1301</td>\n",
              "      <td>95.346641</td>\n",
              "      <td>464</td>\n",
              "    </tr>\n",
              "    <tr>\n",
              "      <th>lhr25s34-in-f14.1e100.net</th>\n",
              "      <td>347</td>\n",
              "      <td>40.810781</td>\n",
              "      <td>1012</td>\n",
              "    </tr>\n",
              "    <tr>\n",
              "      <th>lhr48s29-in-f10.1e100.net</th>\n",
              "      <td>555</td>\n",
              "      <td>69.426687</td>\n",
              "      <td>326</td>\n",
              "    </tr>\n",
              "    <tr>\n",
              "      <th>mobile-gtalk.l.google.com</th>\n",
              "      <td>3728</td>\n",
              "      <td>276.539112</td>\n",
              "      <td>2652</td>\n",
              "    </tr>\n",
              "    <tr>\n",
              "      <th>mrs09s16-in-f14.1e100.net</th>\n",
              "      <td>222</td>\n",
              "      <td>27.943904</td>\n",
              "      <td>108</td>\n",
              "    </tr>\n",
              "    <tr>\n",
              "      <th>optimizationguide-pa.googleapis.com</th>\n",
              "      <td>2840</td>\n",
              "      <td>234.398310</td>\n",
              "      <td>2257</td>\n",
              "    </tr>\n",
              "    <tr>\n",
              "      <th>par10s22-in-f227.1e100.net</th>\n",
              "      <td>216</td>\n",
              "      <td>28.973751</td>\n",
              "      <td>163</td>\n",
              "    </tr>\n",
              "    <tr>\n",
              "      <th>play.google.com</th>\n",
              "      <td>7212</td>\n",
              "      <td>430.563271</td>\n",
              "      <td>9224</td>\n",
              "    </tr>\n",
              "    <tr>\n",
              "      <th>wf-in-f188.1e100.net</th>\n",
              "      <td>320</td>\n",
              "      <td>31.245148</td>\n",
              "      <td>108</td>\n",
              "    </tr>\n",
              "  </tbody>\n",
              "</table>\n",
              "</div>\n",
              "      <button class=\"colab-df-convert\" onclick=\"convertToInteractive('df-97727f7c-7c34-4960-831e-0c511e6bca0b')\"\n",
              "              title=\"Convert this dataframe to an interactive table.\"\n",
              "              style=\"display:none;\">\n",
              "        \n",
              "  <svg xmlns=\"http://www.w3.org/2000/svg\" height=\"24px\"viewBox=\"0 0 24 24\"\n",
              "       width=\"24px\">\n",
              "    <path d=\"M0 0h24v24H0V0z\" fill=\"none\"/>\n",
              "    <path d=\"M18.56 5.44l.94 2.06.94-2.06 2.06-.94-2.06-.94-.94-2.06-.94 2.06-2.06.94zm-11 1L8.5 8.5l.94-2.06 2.06-.94-2.06-.94L8.5 2.5l-.94 2.06-2.06.94zm10 10l.94 2.06.94-2.06 2.06-.94-2.06-.94-.94-2.06-.94 2.06-2.06.94z\"/><path d=\"M17.41 7.96l-1.37-1.37c-.4-.4-.92-.59-1.43-.59-.52 0-1.04.2-1.43.59L10.3 9.45l-7.72 7.72c-.78.78-.78 2.05 0 2.83L4 21.41c.39.39.9.59 1.41.59.51 0 1.02-.2 1.41-.59l7.78-7.78 2.81-2.81c.8-.78.8-2.07 0-2.86zM5.41 20L4 18.59l7.72-7.72 1.47 1.35L5.41 20z\"/>\n",
              "  </svg>\n",
              "      </button>\n",
              "      \n",
              "  <style>\n",
              "    .colab-df-container {\n",
              "      display:flex;\n",
              "      flex-wrap:wrap;\n",
              "      gap: 12px;\n",
              "    }\n",
              "\n",
              "    .colab-df-convert {\n",
              "      background-color: #E8F0FE;\n",
              "      border: none;\n",
              "      border-radius: 50%;\n",
              "      cursor: pointer;\n",
              "      display: none;\n",
              "      fill: #1967D2;\n",
              "      height: 32px;\n",
              "      padding: 0 0 0 0;\n",
              "      width: 32px;\n",
              "    }\n",
              "\n",
              "    .colab-df-convert:hover {\n",
              "      background-color: #E2EBFA;\n",
              "      box-shadow: 0px 1px 2px rgba(60, 64, 67, 0.3), 0px 1px 3px 1px rgba(60, 64, 67, 0.15);\n",
              "      fill: #174EA6;\n",
              "    }\n",
              "\n",
              "    [theme=dark] .colab-df-convert {\n",
              "      background-color: #3B4455;\n",
              "      fill: #D2E3FC;\n",
              "    }\n",
              "\n",
              "    [theme=dark] .colab-df-convert:hover {\n",
              "      background-color: #434B5C;\n",
              "      box-shadow: 0px 1px 3px 1px rgba(0, 0, 0, 0.15);\n",
              "      filter: drop-shadow(0px 1px 2px rgba(0, 0, 0, 0.3));\n",
              "      fill: #FFFFFF;\n",
              "    }\n",
              "  </style>\n",
              "\n",
              "      <script>\n",
              "        const buttonEl =\n",
              "          document.querySelector('#df-97727f7c-7c34-4960-831e-0c511e6bca0b button.colab-df-convert');\n",
              "        buttonEl.style.display =\n",
              "          google.colab.kernel.accessAllowed ? 'block' : 'none';\n",
              "\n",
              "        async function convertToInteractive(key) {\n",
              "          const element = document.querySelector('#df-97727f7c-7c34-4960-831e-0c511e6bca0b');\n",
              "          const dataTable =\n",
              "            await google.colab.kernel.invokeFunction('convertToInteractive',\n",
              "                                                     [key], {});\n",
              "          if (!dataTable) return;\n",
              "\n",
              "          const docLinkHtml = 'Like what you see? Visit the ' +\n",
              "            '<a target=\"_blank\" href=https://colab.research.google.com/notebooks/data_table.ipynb>data table notebook</a>'\n",
              "            + ' to learn more about interactive tables.';\n",
              "          element.innerHTML = '';\n",
              "          dataTable['output_type'] = 'display_data';\n",
              "          await google.colab.output.renderOutput(dataTable, element);\n",
              "          const docLink = document.createElement('div');\n",
              "          docLink.innerHTML = docLinkHtml;\n",
              "          element.appendChild(docLink);\n",
              "        }\n",
              "      </script>\n",
              "    </div>\n",
              "  </div>\n",
              "  "
            ]
          },
          "metadata": {},
          "execution_count": 81
        }
      ]
    },
    {
      "cell_type": "code",
      "source": [
        "destination_addresses.plot(kind='barh', title=\"Destination Addresses (Bytes Received)\",figsize=(8,5))"
      ],
      "metadata": {
        "colab": {
          "base_uri": "https://localhost:8080/",
          "height": 353
        },
        "id": "txcO-bq8nG2j",
        "outputId": "041ba242-987c-467d-cacb-249e573c2a8f"
      },
      "execution_count": 82,
      "outputs": [
        {
          "output_type": "execute_result",
          "data": {
            "text/plain": [
              "<matplotlib.axes._subplots.AxesSubplot at 0x7f99ae35e110>"
            ]
          },
          "metadata": {},
          "execution_count": 82
        },
        {
          "output_type": "display_data",
          "data": {
            "text/plain": [
              "<Figure size 576x360 with 1 Axes>"
            ],
            "image/png": "[encoded data removed]"
          },
          "metadata": {
            "needs_background": "light"
          }
        }
      ]
    }
  ]
}